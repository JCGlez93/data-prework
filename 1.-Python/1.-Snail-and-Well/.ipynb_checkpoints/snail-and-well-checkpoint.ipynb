{
 "cells": [
  {
   "cell_type": "markdown",
   "metadata": {},
   "source": [
    "<img src=\"https://bit.ly/2VnXWr2\" width=\"100\" align=\"left\">"
   ]
  },
  {
   "cell_type": "markdown",
   "metadata": {},
   "source": [
    "# The Snail and the Well\n",
    "\n",
    "A snail falls at the bottom of a 125 cm well. Each day the snail rises 30 cm. But at night, while sleeping, slides 20 cm because the walls are wet. How many days does it take for the snail to escape the well?\n",
    "\n",
    "**Hint**: The snail gets out of the well when it surpasses the 125cm of height.\n",
    "\n",
    "## Tools\n",
    "\n",
    "1. Loop: **while**\n",
    "2. Conditional statements: **if-else**\n",
    "3. Function: **print()**\n",
    "\n",
    "## Tasks\n",
    "\n",
    "#### 1. Assign the challenge data to variables with representative names: `well_height`, `daily_distance`, `nightly_distance` and `snail_position`."
   ]
  },
  {
   "cell_type": "code",
   "execution_count": 1,
   "metadata": {},
   "outputs": [
    {
     "name": "stdout",
     "output_type": "stream",
     "text": [
      "10\n"
     ]
    }
   ],
   "source": [
    "well_height= 125\n",
    "daily_distance = 30\n",
    "nightly_distance = 20\n",
    "snail_position= 0\n",
    "net_daily_distance = daily_distance - nightly_distance\n",
    "print(net_daily_distance)\n"
   ]
  },
  {
   "cell_type": "markdown",
   "metadata": {},
   "source": [
    "#### 2. Create a variable `days` to keep count of the days that pass until the snail escapes the well. "
   ]
  },
  {
   "cell_type": "code",
   "execution_count": 2,
   "metadata": {},
   "outputs": [],
   "source": [
    "days = 0\n"
   ]
  },
  {
   "cell_type": "markdown",
   "metadata": {},
   "source": [
    "#### 3. Find the solution to the challenge using the variables defined above. "
   ]
  },
  {
   "cell_type": "code",
   "execution_count": 4,
   "metadata": {},
   "outputs": [
    {
     "name": "stdout",
     "output_type": "stream",
     "text": [
      "En el dia 0 sube 10 cm lleva un total de 10 cm\n",
      "En el dia 1 sube 10 cm lleva un total de 20 cm\n",
      "En el dia 2 sube 10 cm lleva un total de 30 cm\n",
      "En el dia 3 sube 10 cm lleva un total de 40 cm\n",
      "En el dia 4 sube 10 cm lleva un total de 50 cm\n",
      "En el dia 5 sube 10 cm lleva un total de 60 cm\n",
      "En el dia 6 sube 10 cm lleva un total de 70 cm\n",
      "En el dia 7 sube 10 cm lleva un total de 80 cm\n",
      "En el dia 8 sube 10 cm lleva un total de 90 cm\n",
      "En el dia 9 sube 10 cm lleva un total de 100 cm\n",
      "En el dia 10 sube 10 cm lleva un total de 110 cm\n",
      "En el dia 11 sube 10 cm lleva un total de 120 cm\n",
      "El caracol sale en el dia 12\n"
     ]
    }
   ],
   "source": [
    "well_height= 125\n",
    "daily_distance = 30\n",
    "nightly_distance = 20\n",
    "snail_position= net_daily_distance\n",
    "net_daily_distance = daily_distance - nightly_distance\n",
    "days=0\n",
    "\n",
    "\n",
    "\n",
    "while snail_position <= well_height:\n",
    "    print(\"En el dia\",days,\"sube\",net_daily_distance,\"cm\",\"lleva un total de\",snail_position,\"cm\")\n",
    "    \n",
    "    days +=1\n",
    "    \n",
    "    snail_position += net_daily_distance\n",
    "    \n",
    "    \n",
    "else:\n",
    "    print(\"El caracol sale en el dia\",days)"
   ]
  },
  {
   "cell_type": "markdown",
   "metadata": {},
   "source": [
    "#### 4. Print the solution."
   ]
  },
  {
   "cell_type": "code",
   "execution_count": 4,
   "metadata": {},
   "outputs": [
    {
     "name": "stdout",
     "output_type": "stream",
     "text": [
      "El caracol sale en el dia 12\n"
     ]
    }
   ],
   "source": [
    "print(\"El caracol sale en el dia\",days)"
   ]
  },
  {
   "cell_type": "markdown",
   "metadata": {},
   "source": [
    "## Bonus\n",
    "The distance traveled by the snail each day is now defined by a list.\n",
    "```\n",
    "advance_cm = [30, 21, 33, 77, 44, 45, 23, 45, 12, 34, 55]\n",
    "```\n",
    "On the first day, the snail rises 30cm but during the night it slides 20cm. On the second day, the snail rises 21cm but during the night it slides 20cm, and so on. \n",
    "\n",
    "#### 1. How many days does it take for the snail to escape the well?\n",
    "Follow the same guidelines as in the previous challenge.\n",
    "\n",
    "**Hint**: Remember that the snail gets out of the well when it surpasses the 125cm of height."
   ]
  },
  {
   "cell_type": "code",
   "execution_count": 5,
   "metadata": {
    "scrolled": true
   },
   "outputs": [
    {
     "data": {
      "text/plain": [
       "<matplotlib.axes._subplots.AxesSubplot at 0x11ede9790>"
      ]
     },
     "execution_count": 5,
     "metadata": {},
     "output_type": "execute_result"
    }
   ],
   "source": [
    "import pandas as pd\n",
    "import numpy as np\n",
    "\n",
    "\n",
    "#Datos\n",
    "well_height= 125\n",
    "daily_distance = [30, 21, 33, 77, 44, 45, 23, 45, 12, 34, 55]\n",
    "\n",
    "nightly_distance = [20 for i in range(11)]\n",
    "\n",
    "net_daily_distance = [ daily_distance - nightly_distance for daily_distance,nightly_distance in zip(daily_distance, nightly_distance)]\n",
    "net_daily_distance\n",
    "\n",
    "suma=0\n",
    "days= 0\n",
    "\n",
    "#Creamos una lista con la distancia que ha subido por dia\n",
    "lista_distancia_acumulada=[]\n",
    "for i in net_daily_distance:\n",
    "    suma=suma+i\n",
    "    lista_distancia_acumulada.append(suma)\n",
    "#print(lista_distancia_acumulada)\n",
    "\n",
    "\n",
    "#Creamos una lista con la altura máxima del pozo\n",
    "well_height_lista = [125 for i in range (11)]\n",
    "#print(well_height_lista)\n",
    "\n",
    "#Teniendo las 2 listas hechas , podemos restarlas y sabes cual fue el día en el que salió\n",
    "\n",
    "distance_difference= [ well_height_lista - lista_distancia_acumulada for well_height_lista,lista_distancia_acumulada in zip(well_height_lista, lista_distancia_acumulada)]\n",
    "\n",
    "#print(distance_difference)\n",
    "\n",
    "#Teniendo la lista de las diferencias , podemos saber cual es la más cercana a 0 y por tanto en la que salió\n",
    "   \n",
    "dia_de_salida = min(distance_difference, key=abs)\n",
    "lista_days= [i for i in range (0,11)]\n",
    "\n",
    "#Creamos un dataframe para visualizar los dias y la solución : dia 6\n",
    "\n",
    "\n",
    "df = pd.DataFrame(list(zip(lista_distancia_acumulada, well_height_lista,distance_difference)), \n",
    "               columns =['lista_distancia_acumulada', 'well_height_lista','distance_difference'])\n",
    "    \n",
    "\n",
    "import matplotlib.pyplot as plt\n",
    "\n",
    "df.plot(kind='line')"
   ]
  },
  {
   "cell_type": "code",
   "execution_count": 6,
   "metadata": {},
   "outputs": [
    {
     "data": {
      "text/html": [
       "<div>\n",
       "<style scoped>\n",
       "    .dataframe tbody tr th:only-of-type {\n",
       "        vertical-align: middle;\n",
       "    }\n",
       "\n",
       "    .dataframe tbody tr th {\n",
       "        vertical-align: top;\n",
       "    }\n",
       "\n",
       "    .dataframe thead th {\n",
       "        text-align: right;\n",
       "    }\n",
       "</style>\n",
       "<table border=\"1\" class=\"dataframe\">\n",
       "  <thead>\n",
       "    <tr style=\"text-align: right;\">\n",
       "      <th></th>\n",
       "      <th>lista_distancia_acumulada</th>\n",
       "      <th>well_height_lista</th>\n",
       "      <th>distance_difference</th>\n",
       "    </tr>\n",
       "  </thead>\n",
       "  <tbody>\n",
       "    <tr>\n",
       "      <td>0</td>\n",
       "      <td>10</td>\n",
       "      <td>125</td>\n",
       "      <td>115</td>\n",
       "    </tr>\n",
       "    <tr>\n",
       "      <td>1</td>\n",
       "      <td>11</td>\n",
       "      <td>125</td>\n",
       "      <td>114</td>\n",
       "    </tr>\n",
       "    <tr>\n",
       "      <td>2</td>\n",
       "      <td>24</td>\n",
       "      <td>125</td>\n",
       "      <td>101</td>\n",
       "    </tr>\n",
       "    <tr>\n",
       "      <td>3</td>\n",
       "      <td>81</td>\n",
       "      <td>125</td>\n",
       "      <td>44</td>\n",
       "    </tr>\n",
       "    <tr>\n",
       "      <td>4</td>\n",
       "      <td>105</td>\n",
       "      <td>125</td>\n",
       "      <td>20</td>\n",
       "    </tr>\n",
       "    <tr>\n",
       "      <td>5</td>\n",
       "      <td>130</td>\n",
       "      <td>125</td>\n",
       "      <td>-5</td>\n",
       "    </tr>\n",
       "    <tr>\n",
       "      <td>6</td>\n",
       "      <td>133</td>\n",
       "      <td>125</td>\n",
       "      <td>-8</td>\n",
       "    </tr>\n",
       "    <tr>\n",
       "      <td>7</td>\n",
       "      <td>158</td>\n",
       "      <td>125</td>\n",
       "      <td>-33</td>\n",
       "    </tr>\n",
       "    <tr>\n",
       "      <td>8</td>\n",
       "      <td>150</td>\n",
       "      <td>125</td>\n",
       "      <td>-25</td>\n",
       "    </tr>\n",
       "    <tr>\n",
       "      <td>9</td>\n",
       "      <td>164</td>\n",
       "      <td>125</td>\n",
       "      <td>-39</td>\n",
       "    </tr>\n",
       "    <tr>\n",
       "      <td>10</td>\n",
       "      <td>199</td>\n",
       "      <td>125</td>\n",
       "      <td>-74</td>\n",
       "    </tr>\n",
       "  </tbody>\n",
       "</table>\n",
       "</div>"
      ],
      "text/plain": [
       "    lista_distancia_acumulada  well_height_lista  distance_difference\n",
       "0                          10                125                  115\n",
       "1                          11                125                  114\n",
       "2                          24                125                  101\n",
       "3                          81                125                   44\n",
       "4                         105                125                   20\n",
       "5                         130                125                   -5\n",
       "6                         133                125                   -8\n",
       "7                         158                125                  -33\n",
       "8                         150                125                  -25\n",
       "9                         164                125                  -39\n",
       "10                        199                125                  -74"
      ]
     },
     "execution_count": 6,
     "metadata": {},
     "output_type": "execute_result"
    }
   ],
   "source": [
    "df"
   ]
  },
  {
   "cell_type": "markdown",
   "metadata": {},
   "source": [
    "#### 2. What is its maximum displacement in one day? And its minimum? Calculate the displacement using only the travel distance of the days used to get out of the well. \n",
    "**Hint**: Remember that displacement means the total distance risen taking into account that the snail slides at night.  \n"
   ]
  },
  {
   "cell_type": "code",
   "execution_count": 8,
   "metadata": {},
   "outputs": [
    {
     "data": {
      "text/html": [
       "<div>\n",
       "<style scoped>\n",
       "    .dataframe tbody tr th:only-of-type {\n",
       "        vertical-align: middle;\n",
       "    }\n",
       "\n",
       "    .dataframe tbody tr th {\n",
       "        vertical-align: top;\n",
       "    }\n",
       "\n",
       "    .dataframe thead th {\n",
       "        text-align: right;\n",
       "    }\n",
       "</style>\n",
       "<table border=\"1\" class=\"dataframe\">\n",
       "  <thead>\n",
       "    <tr style=\"text-align: right;\">\n",
       "      <th></th>\n",
       "      <th>lista_distancia_acumulada</th>\n",
       "      <th>well_height_lista</th>\n",
       "      <th>distance_difference</th>\n",
       "      <th>net_daily_distance</th>\n",
       "    </tr>\n",
       "  </thead>\n",
       "  <tbody>\n",
       "    <tr>\n",
       "      <td>0</td>\n",
       "      <td>10</td>\n",
       "      <td>125</td>\n",
       "      <td>115</td>\n",
       "      <td>10</td>\n",
       "    </tr>\n",
       "    <tr>\n",
       "      <td>1</td>\n",
       "      <td>11</td>\n",
       "      <td>125</td>\n",
       "      <td>114</td>\n",
       "      <td>1</td>\n",
       "    </tr>\n",
       "    <tr>\n",
       "      <td>2</td>\n",
       "      <td>24</td>\n",
       "      <td>125</td>\n",
       "      <td>101</td>\n",
       "      <td>13</td>\n",
       "    </tr>\n",
       "    <tr>\n",
       "      <td>3</td>\n",
       "      <td>81</td>\n",
       "      <td>125</td>\n",
       "      <td>44</td>\n",
       "      <td>57</td>\n",
       "    </tr>\n",
       "    <tr>\n",
       "      <td>4</td>\n",
       "      <td>105</td>\n",
       "      <td>125</td>\n",
       "      <td>20</td>\n",
       "      <td>24</td>\n",
       "    </tr>\n",
       "    <tr>\n",
       "      <td>5</td>\n",
       "      <td>130</td>\n",
       "      <td>125</td>\n",
       "      <td>-5</td>\n",
       "      <td>25</td>\n",
       "    </tr>\n",
       "    <tr>\n",
       "      <td>6</td>\n",
       "      <td>133</td>\n",
       "      <td>125</td>\n",
       "      <td>-8</td>\n",
       "      <td>3</td>\n",
       "    </tr>\n",
       "    <tr>\n",
       "      <td>7</td>\n",
       "      <td>158</td>\n",
       "      <td>125</td>\n",
       "      <td>-33</td>\n",
       "      <td>25</td>\n",
       "    </tr>\n",
       "    <tr>\n",
       "      <td>8</td>\n",
       "      <td>150</td>\n",
       "      <td>125</td>\n",
       "      <td>-25</td>\n",
       "      <td>-8</td>\n",
       "    </tr>\n",
       "    <tr>\n",
       "      <td>9</td>\n",
       "      <td>164</td>\n",
       "      <td>125</td>\n",
       "      <td>-39</td>\n",
       "      <td>14</td>\n",
       "    </tr>\n",
       "    <tr>\n",
       "      <td>10</td>\n",
       "      <td>199</td>\n",
       "      <td>125</td>\n",
       "      <td>-74</td>\n",
       "      <td>35</td>\n",
       "    </tr>\n",
       "  </tbody>\n",
       "</table>\n",
       "</div>"
      ],
      "text/plain": [
       "    lista_distancia_acumulada  well_height_lista  distance_difference  \\\n",
       "0                          10                125                  115   \n",
       "1                          11                125                  114   \n",
       "2                          24                125                  101   \n",
       "3                          81                125                   44   \n",
       "4                         105                125                   20   \n",
       "5                         130                125                   -5   \n",
       "6                         133                125                   -8   \n",
       "7                         158                125                  -33   \n",
       "8                         150                125                  -25   \n",
       "9                         164                125                  -39   \n",
       "10                        199                125                  -74   \n",
       "\n",
       "    net_daily_distance  \n",
       "0                   10  \n",
       "1                    1  \n",
       "2                   13  \n",
       "3                   57  \n",
       "4                   24  \n",
       "5                   25  \n",
       "6                    3  \n",
       "7                   25  \n",
       "8                   -8  \n",
       "9                   14  \n",
       "10                  35  "
      ]
     },
     "execution_count": 8,
     "metadata": {},
     "output_type": "execute_result"
    }
   ],
   "source": [
    "df_2=pd.DataFrame(list(zip(lista_distancia_acumulada, well_height_lista,distance_difference,net_daily_distance)), \n",
    "               columns =['lista_distancia_acumulada', 'well_height_lista','distance_difference','net_daily_distance'])\n",
    "\n",
    "\n",
    "\n",
    "df_2"
   ]
  },
  {
   "cell_type": "code",
   "execution_count": 9,
   "metadata": {},
   "outputs": [
    {
     "data": {
      "text/html": [
       "<div>\n",
       "<style scoped>\n",
       "    .dataframe tbody tr th:only-of-type {\n",
       "        vertical-align: middle;\n",
       "    }\n",
       "\n",
       "    .dataframe tbody tr th {\n",
       "        vertical-align: top;\n",
       "    }\n",
       "\n",
       "    .dataframe thead th {\n",
       "        text-align: right;\n",
       "    }\n",
       "</style>\n",
       "<table border=\"1\" class=\"dataframe\">\n",
       "  <thead>\n",
       "    <tr style=\"text-align: right;\">\n",
       "      <th></th>\n",
       "      <th>lista_distancia_acumulada</th>\n",
       "      <th>well_height_lista</th>\n",
       "      <th>distance_difference</th>\n",
       "      <th>net_daily_distance</th>\n",
       "    </tr>\n",
       "  </thead>\n",
       "  <tbody>\n",
       "    <tr>\n",
       "      <td>0</td>\n",
       "      <td>10</td>\n",
       "      <td>125</td>\n",
       "      <td>115</td>\n",
       "      <td>10</td>\n",
       "    </tr>\n",
       "    <tr>\n",
       "      <td>1</td>\n",
       "      <td>11</td>\n",
       "      <td>125</td>\n",
       "      <td>114</td>\n",
       "      <td>1</td>\n",
       "    </tr>\n",
       "    <tr>\n",
       "      <td>2</td>\n",
       "      <td>24</td>\n",
       "      <td>125</td>\n",
       "      <td>101</td>\n",
       "      <td>13</td>\n",
       "    </tr>\n",
       "    <tr>\n",
       "      <td>3</td>\n",
       "      <td>81</td>\n",
       "      <td>125</td>\n",
       "      <td>44</td>\n",
       "      <td>57</td>\n",
       "    </tr>\n",
       "    <tr>\n",
       "      <td>4</td>\n",
       "      <td>105</td>\n",
       "      <td>125</td>\n",
       "      <td>20</td>\n",
       "      <td>24</td>\n",
       "    </tr>\n",
       "    <tr>\n",
       "      <td>5</td>\n",
       "      <td>130</td>\n",
       "      <td>125</td>\n",
       "      <td>-5</td>\n",
       "      <td>25</td>\n",
       "    </tr>\n",
       "  </tbody>\n",
       "</table>\n",
       "</div>"
      ],
      "text/plain": [
       "   lista_distancia_acumulada  well_height_lista  distance_difference  \\\n",
       "0                         10                125                  115   \n",
       "1                         11                125                  114   \n",
       "2                         24                125                  101   \n",
       "3                         81                125                   44   \n",
       "4                        105                125                   20   \n",
       "5                        130                125                   -5   \n",
       "\n",
       "   net_daily_distance  \n",
       "0                  10  \n",
       "1                   1  \n",
       "2                  13  \n",
       "3                  57  \n",
       "4                  24  \n",
       "5                  25  "
      ]
     },
     "execution_count": 9,
     "metadata": {},
     "output_type": "execute_result"
    }
   ],
   "source": [
    "df_3= df_2.drop(df_2.index[6:11])\n",
    "df_3"
   ]
  },
  {
   "cell_type": "code",
   "execution_count": 8,
   "metadata": {},
   "outputs": [
    {
     "name": "stdout",
     "output_type": "stream",
     "text": [
      "min: 1\n",
      "max: 57\n"
     ]
    }
   ],
   "source": [
    "print(\"min:\",min(df_3[\"net_daily_distance\"]))\n",
    "print(\"max:\",max(df_3[\"net_daily_distance\"]))"
   ]
  },
  {
   "cell_type": "markdown",
   "metadata": {},
   "source": [
    "#### 3. What is its average progress? Take into account the snail slides at night."
   ]
  },
  {
   "cell_type": "code",
   "execution_count": 9,
   "metadata": {},
   "outputs": [
    {
     "name": "stdout",
     "output_type": "stream",
     "text": [
      "18.09090909090909\n"
     ]
    }
   ],
   "source": [
    "mean = sum(net_daily_distance)/len(net_daily_distance)\n",
    "print(mean)"
   ]
  },
  {
   "cell_type": "markdown",
   "metadata": {},
   "source": [
    "#### 4. What is the standard deviation of its displacement? Take into account the snail slides at night."
   ]
  },
  {
   "cell_type": "code",
   "execution_count": 12,
   "metadata": {},
   "outputs": [
    {
     "data": {
      "text/plain": [
       "17.159437082600803"
      ]
     },
     "execution_count": 12,
     "metadata": {},
     "output_type": "execute_result"
    }
   ],
   "source": [
    "np.std(net_daily_distance)"
   ]
  },
  {
   "cell_type": "code",
   "execution_count": null,
   "metadata": {},
   "outputs": [],
   "source": []
  }
 ],
 "metadata": {
  "kernelspec": {
   "display_name": "Python 3",
   "language": "python",
   "name": "python3"
  },
  "language_info": {
   "codemirror_mode": {
    "name": "ipython",
    "version": 3
   },
   "file_extension": ".py",
   "mimetype": "text/x-python",
   "name": "python",
   "nbconvert_exporter": "python",
   "pygments_lexer": "ipython3",
   "version": "3.7.4"
  }
 },
 "nbformat": 4,
 "nbformat_minor": 2
}
